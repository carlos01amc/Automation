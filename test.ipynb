{
 "cells": [
  {
   "cell_type": "code",
   "execution_count": null,
   "id": "104bba8c",
   "metadata": {},
   "outputs": [],
   "source": [
    "from selenium import webdriver\n",
    "from selenium.webdriver.common.by import By\n",
    "from selenium.webdriver.chrome.service import Service\n",
    "from selenium.webdriver.common.keys import Keys\n",
    "\n",
    "service = Service()\n",
    "driver = webdriver.Chrome(service=service)\n",
    "\n",
    "driver.get(\"https://www.timeforstorm.eu/stormstudio/login/content%20guru/8a46c4ac0c101da5#/login/content%20guru/8a46c4ac0c101da5%20storm%20STUDIO%E2%84%A2\")"
   ]
  },
  {
   "cell_type": "code",
   "execution_count": 35,
   "id": "75d01664",
   "metadata": {},
   "outputs": [],
   "source": [
    "org_search = driver.find_element(By.CSS_SELECTOR, '#prefix_search input')\n",
    "org_search.send_keys('Allianz Partners EU')\n",
    "org_search.send_keys(Keys.ENTER)\n"
   ]
  },
  {
   "cell_type": "code",
   "execution_count": 36,
   "id": "04cb1e93",
   "metadata": {},
   "outputs": [],
   "source": [
    "from selenium.webdriver.support.ui import WebDriverWait\n",
    "from selenium.webdriver.support import expected_conditions as EC\n",
    "\n",
    "user_dropdown = driver.find_element(By.CLASS_NAME, 'el-select')\n",
    "user_dropdown.click()\n",
    "\n",
    "admin_user = WebDriverWait(driver, 10).until(\n",
    "    EC.element_to_be_clickable((By.XPATH, \"//li[contains(@class, 'el-select-dropdown__item') and contains(., 'red01')]\"))\n",
    ")\n",
    "admin_user.click()\n",
    "\n",
    "login = driver.find_element(By.ID, \"loginButton\")\n",
    "login.click()"
   ]
  }
 ],
 "metadata": {
  "kernelspec": {
   "display_name": "base",
   "language": "python",
   "name": "python3"
  },
  "language_info": {
   "codemirror_mode": {
    "name": "ipython",
    "version": 3
   },
   "file_extension": ".py",
   "mimetype": "text/x-python",
   "name": "python",
   "nbconvert_exporter": "python",
   "pygments_lexer": "ipython3",
   "version": "3.12.2"
  }
 },
 "nbformat": 4,
 "nbformat_minor": 5
}
